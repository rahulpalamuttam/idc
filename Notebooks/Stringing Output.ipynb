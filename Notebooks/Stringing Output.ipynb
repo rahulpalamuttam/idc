{
 "cells": [
  {
   "cell_type": "code",
   "execution_count": 14,
   "metadata": {
    "collapsed": false,
    "scrolled": false
   },
   "outputs": [
    {
     "data": {
      "text/html": [
       "<!DOCTYPE html>\n",
       "<html>\n",
       "<head>\n",
       "    <meta charset=\"utf-8\">\n",
       "    <title>The d3 test</title>\n",
       "    <style>\n",
       "        /* Format X and Y Axis */\n",
       "        .axis path,\n",
       "        .axis line {\n",
       "            fill: none;\n",
       "            stroke: black;\n",
       "            shape-rendering: crispEdges;\n",
       "        }\n",
       "\n",
       "        .axis text {\n",
       "            font-family: sans-serif;\n",
       "            font-size: 11px;\n",
       "        }\n",
       "    </style>\n",
       "    <script type=\"text/javascript\" src=\"d3/d3.v3.js\"></script>\n",
       "</head>\n",
       "<body>\n",
       "\n",
       "<script type=\"text/javascript\">\n",
       "    /**\n",
       " * Created by rahul on 11/7/15.\n",
       " */\n",
       "var data = [[5,10], [10,17], [15,4], [2,8], [4,2], [3,9]];\n",
       "\n",
       "    var margin = {top: 20, right: 15, bottom: 60, left: 60}\n",
       "      , width = 960 - margin.left - margin.right\n",
       "      , height = 500 - margin.top - margin.bottom;\n",
       "\n",
       "    var x = d3.scale.linear()\n",
       "              .domain([0, d3.max(data, function(d) { return d[0]; })])\n",
       "              .range([ 0, width ]);\n",
       "\n",
       "    var y = d3.scale.linear()\n",
       "    \t      .domain([0, d3.max(data, function(d) { return d[1]; })])\n",
       "    \t      .range([ height, 0 ]);\n",
       "\n",
       "    var chart = d3.select('body')\n",
       "\t.append('svg:svg')\n",
       "\t.attr('width', width + margin.right + margin.left)\n",
       "\t.attr('height', height + margin.top + margin.bottom)\n",
       "\t.attr('class', 'chart')\n",
       "\n",
       "    var main = chart.append('g')\n",
       "\t.attr('transform', 'translate(' + margin.left + ',' + margin.top + ')')\n",
       "\t.attr('width', width)\n",
       "\t.attr('height', height)\n",
       "\t.attr('class', 'main')\n",
       "\n",
       "    // draw the x axis\n",
       "    var xAxis = d3.svg.axis()\n",
       "\t.scale(x)\n",
       "\t.orient('bottom');\n",
       "\n",
       "    main.append('g')\n",
       "\t.attr('transform', 'translate(0,' + height + ')')\n",
       "\t.attr('class', 'main axis date')\n",
       "\t.call(xAxis);\n",
       "\n",
       "    // draw the y axis\n",
       "    var yAxis = d3.svg.axis()\n",
       "\t.scale(y)\n",
       "\t.orient('left');\n",
       "\n",
       "    main.append('g')\n",
       "\t.attr('transform', 'translate(0,0)')\n",
       "\t.attr('class', 'main axis date')\n",
       "\t.call(yAxis);\n",
       "\n",
       "    var g = main.append(\"svg:g\");\n",
       "\n",
       "    g.selectAll(\"scatter-dots\")\n",
       "      .data(data)\n",
       "      .enter().append(\"svg:circle\")\n",
       "          .attr(\"cx\", function (d,i) { return x(d[0]); } )\n",
       "          .attr(\"cy\", function (d) { return y(d[1]); } )\n",
       "          .attr(\"r\", 8);\n",
       "\n",
       "\n",
       "function updateData() {\n",
       "    data = [[10, 5], [2, 17], [1, 4], [2, 3]];\n",
       "    var svg = d3.select(\"body\").transition();\n",
       "    svg.select(\"svg:g\")\n",
       "        .selectAll(\"scatter-dots\")\n",
       "      .data(data)\n",
       "      .enter().append(\"svg:circle\")\n",
       "          .attr(\"cx\", function (d,i) { return x(d[0]); } )\n",
       "          .attr(\"cy\", function (d) { return y(d[1]); } )\n",
       "          .attr(\"r\", 8);\n",
       "}\n",
       "</script>\n",
       "\n",
       "</body>\n",
       "</html>"
      ],
      "text/plain": [
       "<IPython.core.display.HTML object>"
      ]
     },
     "metadata": {},
     "output_type": "display_data"
    }
   ],
   "source": [
    "from ipywidgets import widgets\n",
    "from IPython.core.display import display, HTML, Javascript\n",
    "\n",
    "filestring = open(\"../scatter.js\", \"r\").read()\n",
    "indexstring = open(\"../index.html\", \"r\").read()\n",
    "datastring = \"[[5,10], [10,17], [15,4], [2,8], [4,2], [3,9]]\"\n",
    "newjstring = filestring.replace(\"$$INSERT$$\", datastring)\n",
    "newhtmlstring = indexstring.replace(\"$$INSERT$$\", newjstring)\n",
    "display(HTML(newhtmlstring))"
   ]
  },
  {
   "cell_type": "code",
   "execution_count": null,
   "metadata": {
    "collapsed": true
   },
   "outputs": [],
   "source": []
  }
 ],
 "metadata": {
  "kernelspec": {
   "display_name": "Python 2",
   "language": "python",
   "name": "python2"
  },
  "language_info": {
   "codemirror_mode": {
    "name": "ipython",
    "version": 2
   },
   "file_extension": ".py",
   "mimetype": "text/x-python",
   "name": "python",
   "nbconvert_exporter": "python",
   "pygments_lexer": "ipython2",
   "version": "2.7.6"
  }
 },
 "nbformat": 4,
 "nbformat_minor": 0
}
