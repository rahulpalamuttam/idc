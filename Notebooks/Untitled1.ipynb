{
 "cells": [
  {
   "cell_type": "code",
   "execution_count": null,
   "metadata": {
    "collapsed": false,
    "scrolled": true
   },
   "outputs": [],
   "source": [
    "from ipywidgets import widgets\n",
    "from IPython.display import display, HTML, Javascript\n",
    "display(HTML(\"\"\"\n",
    "<style>\n",
    ".bar {\n",
    " fill: steelblue;\n",
    "}\n",
    ".bar:hover {\n",
    " fill: brown;\n",
    "}\n",
    ".axis {\n",
    " font: 10px sans-serif;\n",
    "}\n",
    ".axis path,\n",
    ".axis line {\n",
    " fill: none;\n",
    " stroke: #000;\n",
    "}\n",
    ".x.axis path {\n",
    " display: none;\n",
    "}\n",
    "</style>\n",
    "<div id=\"chart_d3\"/>\n",
    "\"\"\"))\n",
    "Javascript(fromfile='../scatter.js')"
   ]
  },
  {
   "cell_type": "code",
   "execution_count": 7,
   "metadata": {
    "collapsed": false,
    "scrolled": false
   },
   "outputs": [
    {
     "name": "stdout",
     "output_type": "stream",
     "text": [
      "/home/rahul/PyCharmProjects/iDC/Notebooks\n"
     ]
    },
    {
     "data": {
      "text/html": [
       "\n",
       "        <iframe\n",
       "            width=\"700\"\n",
       "            height=\"500\"\n",
       "            src=\"../index.html\"\n",
       "            frameborder=\"0\"\n",
       "            allowfullscreen\n",
       "        ></iframe>\n",
       "        "
      ],
      "text/plain": [
       "<IPython.lib.display.IFrame at 0x7ff8b171e550>"
      ]
     },
     "execution_count": 7,
     "metadata": {},
     "output_type": "execute_result"
    }
   ],
   "source": [
    "from ipywidgets import widgets\n",
    "from IPython.display import display, HTML, Javascript, IFrame\n",
    "import os\n",
    "print os.getcwd()\n",
    "import sys\n",
    "IFrame('../index.html', 700, 500)"
   ]
  },
  {
   "cell_type": "code",
   "execution_count": null,
   "metadata": {
    "collapsed": false
   },
   "outputs": [],
   "source": [
    "from ipywidgets import widgets\n",
    "from IPython.display import display, HTML, Javascript, IFrame\n",
    "\n",
    "filestring = open(\"../scatter.js\", \"r\").read()\n",
    "indexstring = open(\"../index.html\", \"r\").read()\n",
    "datastring = \"[[5,10], [10,17], [15,4], [2,8]]\"\n",
    "newjstring = filestring.replace(\"$$INSERT$$\", datastring)\n",
    "newhtmlstring = indexstring.replace(\"$$INSERT$$\", newjstring)\n",
    "display(HTML(newhtmlstring))"
   ]
  },
  {
   "cell_type": "code",
   "execution_count": null,
   "metadata": {
    "collapsed": true
   },
   "outputs": [],
   "source": []
  },
  {
   "cell_type": "code",
   "execution_count": null,
   "metadata": {
    "collapsed": true
   },
   "outputs": [],
   "source": []
  }
 ],
 "metadata": {
  "kernelspec": {
   "display_name": "Python 2",
   "language": "python",
   "name": "python2"
  },
  "language_info": {
   "codemirror_mode": {
    "name": "ipython",
    "version": 2
   },
   "file_extension": ".py",
   "mimetype": "text/x-python",
   "name": "python",
   "nbconvert_exporter": "python",
   "pygments_lexer": "ipython2",
   "version": "2.7.6"
  }
 },
 "nbformat": 4,
 "nbformat_minor": 0
}
